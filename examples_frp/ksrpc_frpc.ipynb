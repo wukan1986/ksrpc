{
 "cells": [
  {
   "cell_type": "markdown",
   "metadata": {},
   "source": [
    "# 合并ksrpc+frpc两阻塞代码于单Notebook"
   ]
  },
  {
   "cell_type": "code",
   "execution_count": null,
   "metadata": {
    "code_folding": [
     0
    ]
   },
   "outputs": [],
   "source": [
    "def run_clear():\n",
    "    print(\"启动定时清屏\")\n",
    "    \n",
    "    import time\n",
    "    from IPython.display import clear_output\n",
    "    \n",
    "    while True:\n",
    "        time.sleep(30)\n",
    "        clear_output(wait=True)"
   ]
  },
  {
   "cell_type": "code",
   "execution_count": null,
   "metadata": {
    "code_folding": [
     0
    ]
   },
   "outputs": [],
   "source": [
    "def run_frpc():\n",
    "    print(\"启动 frpc 服务...\")\n",
    "    \n",
    "    import subprocess\n",
    "    try:\n",
    "        # 使用 subprocess 运行外部命令\n",
    "        process = subprocess.Popen(\n",
    "            [\"./frpc\", \"-c\", \"./frpc.toml\"],\n",
    "            stdout=subprocess.PIPE,\n",
    "            stderr=subprocess.PIPE,\n",
    "            universal_newlines=True,\n",
    "        )\n",
    "        \n",
    "        # 实时输出日志\n",
    "        while True:\n",
    "            output = process.stdout.readline()\n",
    "            if output == '' and process.poll() is not None:\n",
    "                break\n",
    "            if output:\n",
    "                print(output.strip())\n",
    "                \n",
    "        # 等待进程结束\n",
    "        process.wait()\n",
    "        \n",
    "    except Exception as e:\n",
    "        print(f\"frpc 服务启动失败: {e}\")\n",
    "    finally:\n",
    "        print(\"frpc 服务已终止\")"
   ]
  },
  {
   "cell_type": "code",
   "execution_count": null,
   "metadata": {
    "code_folding": [
     0
    ]
   },
   "outputs": [],
   "source": [
    "def run_ksrpc():\n",
    "    print(\"启动 ksrpc 服务\")\n",
    "    \n",
    "    from ksrpc import config\n",
    "    config.PORT = 8000\n",
    "    \n",
    "    # 必须在主线程中使用，否则调用的部分API可能失败。所以要线程中使用\n",
    "    from ksrpc.app import simple_\n",
    "    simple_.main()"
   ]
  },
  {
   "cell_type": "code",
   "execution_count": null,
   "metadata": {
    "code_folding": [
     0
    ]
   },
   "outputs": [],
   "source": [
    "import multiprocessing\n",
    "from contextlib import contextmanager\n",
    "\n",
    "@contextmanager\n",
    "def process_manager(*processes):\n",
    "    try:\n",
    "        for p in processes:\n",
    "            p.start()\n",
    "        yield\n",
    "    finally:\n",
    "        for p in processes:\n",
    "            if p.is_alive():\n",
    "                p.terminate()\n",
    "                p.join()\n",
    "\n",
    "if __name__ == '__main__':\n",
    "    p1 = multiprocessing.Process(target=run_ksrpc)\n",
    "    p2 = multiprocessing.Process(target=run_frpc)\n",
    "    p3 = multiprocessing.Process(target=run_clear)\n",
    "    \n",
    "    with process_manager(p1, p2, p3):\n",
    "        p1.join()\n",
    "        p2.join()\n",
    "        p3.join()"
   ]
  }
 ],
 "metadata": {
  "kernelspec": {
   "display_name": "Python 3",
   "language": "python",
   "name": "python3"
  },
  "language_info": {
   "codemirror_mode": {
    "name": "ipython",
    "version": 3
   },
   "file_extension": ".py",
   "mimetype": "text/x-python",
   "name": "python",
   "nbconvert_exporter": "python",
   "pygments_lexer": "ipython3",
   "version": "3.6.7"
  },
  "toc": {
   "base_numbering": 1,
   "nav_menu": {},
   "number_sections": false,
   "sideBar": true,
   "skip_h1_title": false,
   "title_cell": "MarkDown菜单",
   "title_sidebar": "Contents",
   "toc_cell": false,
   "toc_position": {},
   "toc_section_display": true,
   "toc_window_display": false
  }
 },
 "nbformat": 4,
 "nbformat_minor": 2
}

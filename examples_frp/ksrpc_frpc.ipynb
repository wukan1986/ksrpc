{
 "cells": [
  {
   "cell_type": "markdown",
   "metadata": {},
   "source": [
    "# 合并ksrpc+frpc两阻塞代码于单Notebook\n",
    "1. 支持子程序崩溃重新拉起\n",
    "2. 支持空闲超时停止服务\n",
    "3. 支持日志超长清屏"
   ]
  },
  {
   "cell_type": "code",
   "execution_count": null,
   "metadata": {
    "code_folding": [
     0
    ]
   },
   "outputs": [],
   "source": [
    "from ksrpc.run_notebook import main\n",
    "\n",
    "commands = {\n",
    "    \"ksrpc\": [\"python\", \"-u\", \"-m\", \"ksrpc.run_app\"],\n",
    "    \"frpc\": [\"./frpc\", \"-c\", \"./frpc.toml\"],\n",
    "}\n",
    "main(commands, idle_timeout=300, clear_count=35)"
   ]
  }
 ],
 "metadata": {
  "kernelspec": {
   "display_name": "Python 3",
   "language": "python",
   "name": "python3"
  },
  "language_info": {
   "codemirror_mode": {
    "name": "ipython",
    "version": 3
   },
   "file_extension": ".py",
   "mimetype": "text/x-python",
   "name": "python",
   "nbconvert_exporter": "python",
   "pygments_lexer": "ipython3",
   "version": "3.6.7"
  },
  "toc": {
   "base_numbering": 1,
   "nav_menu": {},
   "number_sections": false,
   "sideBar": true,
   "skip_h1_title": false,
   "title_cell": "MarkDown菜单",
   "title_sidebar": "Contents",
   "toc_cell": false,
   "toc_position": {},
   "toc_section_display": true,
   "toc_window_display": false
  }
 },
 "nbformat": 4,
 "nbformat_minor": 2
}

{
 "cells": [
  {
   "cell_type": "markdown",
   "metadata": {},
   "source": [
    "# 合并ksrpc+frpc两阻塞代码于单Notebook"
   ]
  },
  {
   "cell_type": "code",
   "execution_count": 1,
   "metadata": {
    "code_folding": [
     0
    ]
   },
   "outputs": [],
   "source": [
    "def run_ksrpc():\n",
    "    print(\"启动ksrpc服务\")\n",
    "    \n",
    "    from ksrpc import config\n",
    "    config.PORT = 8000\n",
    "\n",
    "    from ksrpc.app import simple_\n",
    "    simple_.main()"
   ]
  },
  {
   "cell_type": "code",
   "execution_count": 2,
   "metadata": {
    "code_folding": [
     0
    ]
   },
   "outputs": [],
   "source": [
    "def run_frpc():\n",
    "    print(\"启动frpc服务\")\n",
    "    \n",
    "    import subprocess\n",
    "    import threading\n",
    "\n",
    "    # 读取流的函数\n",
    "    def read_stream(stream, prefix):\n",
    "        for line in stream:\n",
    "            print(f\"[{prefix}] {line.strip()}\")\n",
    "\n",
    "    # 启动进程\n",
    "    process = subprocess.Popen(\n",
    "        ['./frpc', '-c', './frpc.toml'],\n",
    "        stdout=subprocess.PIPE,\n",
    "        stderr=subprocess.PIPE,\n",
    "        universal_newlines=True,\n",
    "        bufsize=1   # 行缓冲，实时输出\n",
    "    )\n",
    "\n",
    "    # 创建并启动线程\n",
    "    threads = [\n",
    "        threading.Thread(target=read_stream, args=(process.stdout, \"STDOUT\")),\n",
    "        threading.Thread(target=read_stream, args=(process.stderr, \"STDERR\"))\n",
    "    ]\n",
    "    \n",
    "    for thread in threads:\n",
    "        thread.daemon = True  # 设置为守护线程，主线程结束时自动退出\n",
    "        thread.start()\n",
    "\n",
    "    try:\n",
    "        # 等待进程结束\n",
    "        return_code = process.wait()\n",
    "    except KeyboardInterrupt:\n",
    "        print(\"\\n用户中断，终止进程...\")\n",
    "        process.terminate()\n",
    "        return_code = process.wait()\n",
    "    finally:\n",
    "        # 等待线程结束（守护线程会在进程结束后自动退出）\n",
    "        for thread in threads:\n",
    "            thread.join(timeout=1)  # 设置超时防止永久阻塞\n",
    "\n",
    "    # 检查返回码\n",
    "    if return_code != 0:\n",
    "        print(f\"命令执行出错，返回码: {return_code}\")"
   ]
  },
  {
   "cell_type": "code",
   "execution_count": 3,
   "metadata": {
    "code_folding": []
   },
   "outputs": [],
   "source": [
    "def background_clear():\n",
    "    print(\"启动定时清屏\")\n",
    "    \n",
    "    import time\n",
    "    from IPython.display import clear_output\n",
    "    \n",
    "    while True:\n",
    "        time.sleep(15)\n",
    "        clear_output(wait=True)"
   ]
  },
  {
   "cell_type": "code",
   "execution_count": null,
   "metadata": {},
   "outputs": [],
   "source": [
    "import asyncio\n",
    "import concurrent.futures\n",
    "\n",
    "async def main():\n",
    "    # 获取事件循环\n",
    "    try:\n",
    "        loop = asyncio.get_running_loop()  # Python 3.7+\n",
    "    except AttributeError:\n",
    "        loop = asyncio.get_event_loop()    # Python 3.6 及更早版本\n",
    "    \n",
    "    # 并行执行两个函数\n",
    "    with concurrent.futures.ThreadPoolExecutor() as pool:\n",
    "        await asyncio.gather(\n",
    "            loop.run_in_executor(pool, run_ksrpc),\n",
    "            loop.run_in_executor(pool, run_frpc),\n",
    "            loop.run_in_executor(pool, background_clear),\n",
    "        )\n",
    "\n",
    "# Jupyter 中直接运行异步函数\n",
    "await main()"
   ]
  }
 ],
 "metadata": {
  "kernelspec": {
   "display_name": "Python 3",
   "language": "python",
   "name": "python3"
  },
  "language_info": {
   "codemirror_mode": {
    "name": "ipython",
    "version": 3
   },
   "file_extension": ".py",
   "mimetype": "text/x-python",
   "name": "python",
   "nbconvert_exporter": "python",
   "pygments_lexer": "ipython3",
   "version": "3.6.7"
  },
  "toc": {
   "base_numbering": 1,
   "nav_menu": {},
   "number_sections": false,
   "sideBar": true,
   "skip_h1_title": false,
   "title_cell": "MarkDown菜单",
   "title_sidebar": "Contents",
   "toc_cell": false,
   "toc_position": {},
   "toc_section_display": true,
   "toc_window_display": false
  }
 },
 "nbformat": 4,
 "nbformat_minor": 2
}

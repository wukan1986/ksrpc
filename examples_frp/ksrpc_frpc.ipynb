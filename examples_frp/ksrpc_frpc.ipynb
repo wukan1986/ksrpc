{
 "cells": [
  {
   "cell_type": "markdown",
   "metadata": {},
   "source": [
    "# 合并ksrpc+frpc两阻塞代码于单Notebook"
   ]
  },
  {
   "cell_type": "code",
   "execution_count": null,
   "metadata": {
    "code_folding": [
     0
    ]
   },
   "outputs": [],
   "source": [
    "def run_command(args):\n",
    "    import select\n",
    "    import subprocess\n",
    "    from IPython.display import clear_output\n",
    "    \n",
    "    try:\n",
    "        # 使用 subprocess 运行外部命令\n",
    "        process = subprocess.Popen(\n",
    "            args,\n",
    "            stdout=subprocess.PIPE,\n",
    "            stderr=subprocess.PIPE,\n",
    "            universal_newlines=True,\n",
    "        )\n",
    "        i = 0\n",
    "        # 实时输出日志\n",
    "        while process.poll() is None:\n",
    "            # 检查 stdout/stderr 是否有数据\n",
    "            rlist, _, _ = select.select([process.stdout, process.stderr], [], [], 0.1)\n",
    "            for stream in rlist:\n",
    "                line = stream.readline()\n",
    "                if line:\n",
    "                    i+=1\n",
    "                    if i%100==0:\n",
    "                        clear_output(wait=True)\n",
    "                    print(line.strip())\n",
    "                \n",
    "        # 等待进程结束\n",
    "        process.wait()\n",
    "    except KeyboardInterrupt:\n",
    "        print(args, \"已中断\")\n",
    "    except Exception as e:\n",
    "        print(args, \"启动失败: \", e)\n",
    "    finally:\n",
    "        print(args, \"已终止\")"
   ]
  },
  {
   "cell_type": "code",
   "execution_count": null,
   "metadata": {
    "code_folding": [
     0
    ]
   },
   "outputs": [],
   "source": [
    "import multiprocessing\n",
    "import time\n",
    "from contextlib import contextmanager\n",
    "\n",
    "@contextmanager\n",
    "def process_manager(*processes):\n",
    "    try:\n",
    "        for p in processes:\n",
    "            p.start()\n",
    "        yield\n",
    "    except KeyboardInterrupt:\n",
    "        print(\"\\n收到终止信号，关闭子进程...\")\n",
    "        time.sleep(1)  # 给子进程时间处理\n",
    "    finally:\n",
    "        for p in processes:\n",
    "            if p.is_alive():\n",
    "                print(f\"强制终止 {p.name}\")\n",
    "                p.terminate()\n",
    "            p.join(timeout=1.0)\n",
    "            if p.is_alive():\n",
    "                print(f\"警告: {p.name} 未能正常终止\")\n",
    "\n",
    "if __name__ == '__main__':\n",
    "    # 创建进程时指定名称便于调试\n",
    "    p1 = multiprocessing.Process(target=lambda :run_command([\"python\", \"-u\", \"-m\", \"ksrpc.run_simple\"]), name=\"ksrpc\")\n",
    "    p2 = multiprocessing.Process(target=lambda :run_command([\"./frpc\", \"-c\", \"./frpc.toml\"]), name=\"frpc\")\n",
    "    \n",
    "    try:\n",
    "        with process_manager(p1, p2):\n",
    "            # 主线程只需等待，由process_manager处理退出\n",
    "            while True:\n",
    "                time.sleep(2)\n",
    "    except Exception as e:\n",
    "        print(f\"主进程错误: {e}\")\n",
    "    finally:\n",
    "        print(\"所有服务已关闭\")"
   ]
  },
  {
   "cell_type": "code",
   "execution_count": null,
   "metadata": {},
   "outputs": [],
   "source": []
  }
 ],
 "metadata": {
  "kernelspec": {
   "display_name": "Python 3",
   "language": "python",
   "name": "python3"
  },
  "language_info": {
   "codemirror_mode": {
    "name": "ipython",
    "version": 3
   },
   "file_extension": ".py",
   "mimetype": "text/x-python",
   "name": "python",
   "nbconvert_exporter": "python",
   "pygments_lexer": "ipython3",
   "version": "3.6.7"
  },
  "toc": {
   "base_numbering": 1,
   "nav_menu": {},
   "number_sections": false,
   "sideBar": true,
   "skip_h1_title": false,
   "title_cell": "MarkDown菜单",
   "title_sidebar": "Contents",
   "toc_cell": false,
   "toc_position": {},
   "toc_section_display": true,
   "toc_window_display": false
  }
 },
 "nbformat": 4,
 "nbformat_minor": 2
}

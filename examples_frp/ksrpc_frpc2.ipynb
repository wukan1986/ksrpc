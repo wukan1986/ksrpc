{
 "cells": [
  {
   "metadata": {},
   "cell_type": "markdown",
   "source": "本计划ksrpc在主进程中运行，frpc在子进程中运行，用来解决进度条不支持实时更新的问题，但发现中断后都没正常退出"
  },
  {
   "metadata": {
    "code_folding": [
     0
    ]
   },
   "cell_type": "code",
   "outputs": [],
   "execution_count": null,
   "source": [
    "from ksrpc.utils.process import run_command, callback\n",
    "\n",
    "import threading\n",
    "a = threading.Thread(target=run_command, args=([\"./frpc\", \"-c\", \"./frpc.toml\"], callback))\n",
    "a.start()"
   ]
  },
  {
   "metadata": {},
   "cell_type": "code",
   "outputs": [],
   "execution_count": null,
   "source": [
    "from ksrpc.run_app import main\n",
    "main(\"./config.py\")"
   ]
  }
 ],
 "metadata": {
  "kernelspec": {
   "display_name": "Python 3",
   "language": "python",
   "name": "python3"
  },
  "language_info": {
   "codemirror_mode": {
    "name": "ipython",
    "version": 3
   },
   "file_extension": ".py",
   "mimetype": "text/x-python",
   "name": "python",
   "nbconvert_exporter": "python",
   "pygments_lexer": "ipython3",
   "version": "3.6.7"
  },
  "toc": {
   "base_numbering": 1,
   "nav_menu": {},
   "number_sections": false,
   "sideBar": true,
   "skip_h1_title": false,
   "title_cell": "MarkDown菜单",
   "title_sidebar": "Contents",
   "toc_cell": false,
   "toc_position": {},
   "toc_section_display": true,
   "toc_window_display": false
  }
 },
 "nbformat": 4,
 "nbformat_minor": 2
}
